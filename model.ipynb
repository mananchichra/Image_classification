{
 "cells": [
  {
   "cell_type": "code",
   "execution_count": 6,
   "metadata": {},
   "outputs": [
    {
     "name": "stdout",
     "output_type": "stream",
     "text": [
      "292\n"
     ]
    }
   ],
   "source": [
    "import pandas as pd\n",
    "from PIL import Image\n",
    "import matplotlib.pyplot as plt\n",
    "import tensorflow as tf\n",
    "from tensorflow.keras import layers, models\n",
    "from sklearn.model_selection import train_test_split\n",
    "from keras.utils import to_categorical\n",
    "# Read the CSV file\n",
    "df = pd.read_csv('data.csv')\n",
    "\n",
    "\n",
    "value_mapping = {'dog': 1, 'zero': 2, 'horse': 3, 'monkey': 4, 'hare': 5, 'rat': 6,\n",
    "                 'ram': 7, 'boar': 8, 'bird': 9, 'snake': 10, 'dragon': 11, 'ox': 12, 'tiger': 13}\n",
    "df['dog'] = df['dog'].replace(value_mapping)\n",
    "                     \n",
    "\n",
    "y = df['dog']\n",
    "x = df.drop('dog',axis = 1)\n",
    "\n",
    "\n",
    "X_train, X_test, y_train, y_test = train_test_split(x, y, test_size=0.2, random_state=42,shuffle=True)\n",
    "print(y_test.shape[0])"
   ]
  },
  {
   "cell_type": "code",
   "execution_count": null,
   "metadata": {},
   "outputs": [],
   "source": [
    "from tensorflow.keras.layers.experimental import preprocessing\n",
    "\n",
    "def data_augmentation(x, training=True):\n",
    "    if training:\n",
    "        x = preprocessing.Rescaling(1./255)(x) \n",
    "        x = preprocessing.RandomFlip(\"horizontal\")(x)\n",
    "        x = preprocessing.RandomRotation(0.2)(x)\n",
    "    return x\n"
   ]
  },
  {
   "cell_type": "code",
   "execution_count": null,
   "metadata": {},
   "outputs": [],
   "source": []
  },
  {
   "cell_type": "code",
   "execution_count": 7,
   "metadata": {},
   "outputs": [
    {
     "name": "stdout",
     "output_type": "stream",
     "text": [
      "Shape of y_train_one_hot: (1164, 14)\n",
      "Shape of y_test_one_hot: (292, 14)\n",
      "Epoch 1/20\n",
      "47/47 [==============================] - 1s 12ms/step - loss: 2.3700 - accuracy: 0.2320 - val_loss: 2.2241 - val_accuracy: 0.3219\n",
      "Epoch 2/20\n",
      "47/47 [==============================] - 0s 7ms/step - loss: 2.1293 - accuracy: 0.3419 - val_loss: 2.0684 - val_accuracy: 0.3596\n",
      "Epoch 3/20\n",
      "47/47 [==============================] - 0s 6ms/step - loss: 1.9554 - accuracy: 0.4296 - val_loss: 1.8813 - val_accuracy: 0.4212\n",
      "Epoch 4/20\n",
      "47/47 [==============================] - 0s 6ms/step - loss: 1.7781 - accuracy: 0.4820 - val_loss: 1.7021 - val_accuracy: 0.5171\n",
      "Epoch 5/20\n",
      "47/47 [==============================] - 0s 5ms/step - loss: 1.6072 - accuracy: 0.5524 - val_loss: 1.5388 - val_accuracy: 0.5959\n",
      "Epoch 6/20\n",
      "47/47 [==============================] - 0s 5ms/step - loss: 1.4543 - accuracy: 0.5928 - val_loss: 1.3962 - val_accuracy: 0.5788\n",
      "Epoch 7/20\n",
      "47/47 [==============================] - 0s 5ms/step - loss: 1.3174 - accuracy: 0.6220 - val_loss: 1.2987 - val_accuracy: 0.5856\n",
      "Epoch 8/20\n",
      "47/47 [==============================] - 0s 5ms/step - loss: 1.2202 - accuracy: 0.6452 - val_loss: 1.1877 - val_accuracy: 0.6507\n",
      "Epoch 9/20\n",
      "47/47 [==============================] - 0s 5ms/step - loss: 1.1199 - accuracy: 0.6881 - val_loss: 1.1249 - val_accuracy: 0.6473\n",
      "Epoch 10/20\n",
      "47/47 [==============================] - 0s 6ms/step - loss: 1.0759 - accuracy: 0.6890 - val_loss: 1.0353 - val_accuracy: 0.7363\n",
      "Epoch 11/20\n",
      "47/47 [==============================] - 0s 5ms/step - loss: 1.0094 - accuracy: 0.7113 - val_loss: 0.9933 - val_accuracy: 0.7192\n",
      "Epoch 12/20\n",
      "47/47 [==============================] - 0s 5ms/step - loss: 0.9431 - accuracy: 0.7466 - val_loss: 0.9408 - val_accuracy: 0.7534\n",
      "Epoch 13/20\n",
      "47/47 [==============================] - 0s 5ms/step - loss: 0.9025 - accuracy: 0.7612 - val_loss: 0.8869 - val_accuracy: 0.7740\n",
      "Epoch 14/20\n",
      "47/47 [==============================] - 0s 6ms/step - loss: 0.8545 - accuracy: 0.7818 - val_loss: 0.8582 - val_accuracy: 0.7740\n",
      "Epoch 15/20\n",
      "47/47 [==============================] - 0s 6ms/step - loss: 0.8270 - accuracy: 0.7801 - val_loss: 0.8116 - val_accuracy: 0.7911\n",
      "Epoch 16/20\n",
      "47/47 [==============================] - 0s 6ms/step - loss: 0.7965 - accuracy: 0.7869 - val_loss: 0.7839 - val_accuracy: 0.7842\n",
      "Epoch 17/20\n",
      "47/47 [==============================] - 0s 5ms/step - loss: 0.7680 - accuracy: 0.7973 - val_loss: 0.7700 - val_accuracy: 0.7808\n",
      "Epoch 18/20\n",
      "47/47 [==============================] - 0s 6ms/step - loss: 0.7422 - accuracy: 0.8033 - val_loss: 0.7342 - val_accuracy: 0.7842\n",
      "Epoch 19/20\n",
      "47/47 [==============================] - 0s 5ms/step - loss: 0.7184 - accuracy: 0.8333 - val_loss: 0.7115 - val_accuracy: 0.7877\n",
      "Epoch 20/20\n",
      "47/47 [==============================] - 0s 5ms/step - loss: 0.6885 - accuracy: 0.8222 - val_loss: 0.6875 - val_accuracy: 0.8048\n",
      "10/10 [==============================] - 0s 3ms/step - loss: 0.6875 - accuracy: 0.8048\n",
      "Test accuracy: 0.8047945499420166\n"
     ]
    }
   ],
   "source": [
    "\n",
    "\n",
    "\n",
    "# y_train_one_hot = to_categorical(y_train,num_classes=14)\n",
    "# y_test_one_hot = to_categorical(y_test)\n",
    "# print(\"Shape of y_train_one_hot:\", y_train_one_hot.shape)\n",
    "# print(\"Shape of y_test_one_hot:\", y_test_one_hot.shape)\n",
    "\n",
    "# num_classes = len(df['dog'].value_counts())\n",
    "\n",
    "# model = models.Sequential()\n",
    "# model.add(layers.Dense(256, activation='relu', input_shape=(126,)))\n",
    "# model.add(layers.Dropout(0.5))\n",
    "# model.add(layers.Dense(14, activation='softmax')) \n",
    "\n",
    "# # Compile the model\n",
    "# model.compile(optimizer='adam', loss='categorical_crossentropy', metrics=['accuracy'])\n",
    "\n",
    "# # Train the model\n",
    "# model.fit(X_train, y_train_one_hot, epochs=20, batch_size=25, validation_data=(X_test, y_test_one_hot))\n",
    "# model.compile(optimizer='adam', loss='categorical_crossentropy', metrics=['accuracy'])\n",
    "# # Evaluate the model\n",
    "# test_loss, test_acc = model.evaluate(X_test, y_test_one_hot)\n",
    "# print(f'Test accuracy: {test_acc}')\n"
   ]
  }
 ],
 "metadata": {
  "kernelspec": {
   "display_name": "Python 3",
   "language": "python",
   "name": "python3"
  },
  "language_info": {
   "codemirror_mode": {
    "name": "ipython",
    "version": 3
   },
   "file_extension": ".py",
   "mimetype": "text/x-python",
   "name": "python",
   "nbconvert_exporter": "python",
   "pygments_lexer": "ipython3",
   "version": "3.10.12"
  },
  "orig_nbformat": 4
 },
 "nbformat": 4,
 "nbformat_minor": 2
}
